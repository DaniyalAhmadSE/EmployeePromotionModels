{
    "cells": [
        {
            "cell_type": "code",
            "execution_count": 84,
            "metadata": {},
            "outputs": [],
            "source": [
                "import numpy as np\n",
                "import pandas as pd\n",
                "import seaborn as sns\n",
                "import matplotlib.pyplot as plt\n",
                "\n",
                "from sklearn.model_selection import train_test_split, cross_validate\n",
                "from sklearn.metrics import confusion_matrix\n",
                "from sklearn.preprocessing import OneHotEncoder, StandardScaler\n",
                "\n",
                "from sklearn.ensemble import RandomForestClassifier\n",
                "from sklearn.svm import SVC\n",
                "from sklearn.naive_bayes import BernoulliNB\n",
                "from sklearn.neural_network import MLPClassifier\n",
                "\n",
                "# conda install -c conda-forge category_encoders\n",
                "from category_encoders import MEstimateEncoder\n",
                "\n",
                "# conda install -c conda-forge imbalanced-learn\n",
                "from imblearn.under_sampling import InstanceHardnessThreshold, NearMiss\n",
                "from imblearn.over_sampling import ADASYN"
            ]
        },
        {
            "cell_type": "code",
            "execution_count": 85,
            "metadata": {},
            "outputs": [
                {
                    "data": {
                        "text/html": [
                            "<div>\n",
                            "<style scoped>\n",
                            "    .dataframe tbody tr th:only-of-type {\n",
                            "        vertical-align: middle;\n",
                            "    }\n",
                            "\n",
                            "    .dataframe tbody tr th {\n",
                            "        vertical-align: top;\n",
                            "    }\n",
                            "\n",
                            "    .dataframe thead th {\n",
                            "        text-align: right;\n",
                            "    }\n",
                            "</style>\n",
                            "<table border=\"1\" class=\"dataframe\">\n",
                            "  <thead>\n",
                            "    <tr style=\"text-align: right;\">\n",
                            "      <th></th>\n",
                            "      <th>employee_id</th>\n",
                            "      <th>department</th>\n",
                            "      <th>region</th>\n",
                            "      <th>education</th>\n",
                            "      <th>gender</th>\n",
                            "      <th>recruitment_channel</th>\n",
                            "      <th>no_of_trainings</th>\n",
                            "      <th>age</th>\n",
                            "      <th>previous_year_rating</th>\n",
                            "      <th>length_of_service</th>\n",
                            "      <th>KPIs_met &gt;80%</th>\n",
                            "      <th>awards_won?</th>\n",
                            "      <th>avg_training_score</th>\n",
                            "      <th>is_promoted</th>\n",
                            "    </tr>\n",
                            "  </thead>\n",
                            "  <tbody>\n",
                            "    <tr>\n",
                            "      <th>0</th>\n",
                            "      <td>65438</td>\n",
                            "      <td>Sales &amp; Marketing</td>\n",
                            "      <td>region_7</td>\n",
                            "      <td>Master's &amp; above</td>\n",
                            "      <td>f</td>\n",
                            "      <td>sourcing</td>\n",
                            "      <td>1</td>\n",
                            "      <td>35</td>\n",
                            "      <td>5.0</td>\n",
                            "      <td>8</td>\n",
                            "      <td>1</td>\n",
                            "      <td>0</td>\n",
                            "      <td>49</td>\n",
                            "      <td>0</td>\n",
                            "    </tr>\n",
                            "    <tr>\n",
                            "      <th>1</th>\n",
                            "      <td>65141</td>\n",
                            "      <td>Operations</td>\n",
                            "      <td>region_22</td>\n",
                            "      <td>Bachelor's</td>\n",
                            "      <td>m</td>\n",
                            "      <td>other</td>\n",
                            "      <td>1</td>\n",
                            "      <td>30</td>\n",
                            "      <td>5.0</td>\n",
                            "      <td>4</td>\n",
                            "      <td>0</td>\n",
                            "      <td>0</td>\n",
                            "      <td>60</td>\n",
                            "      <td>0</td>\n",
                            "    </tr>\n",
                            "    <tr>\n",
                            "      <th>2</th>\n",
                            "      <td>7513</td>\n",
                            "      <td>Sales &amp; Marketing</td>\n",
                            "      <td>region_19</td>\n",
                            "      <td>Bachelor's</td>\n",
                            "      <td>m</td>\n",
                            "      <td>sourcing</td>\n",
                            "      <td>1</td>\n",
                            "      <td>34</td>\n",
                            "      <td>3.0</td>\n",
                            "      <td>7</td>\n",
                            "      <td>0</td>\n",
                            "      <td>0</td>\n",
                            "      <td>50</td>\n",
                            "      <td>0</td>\n",
                            "    </tr>\n",
                            "    <tr>\n",
                            "      <th>3</th>\n",
                            "      <td>2542</td>\n",
                            "      <td>Sales &amp; Marketing</td>\n",
                            "      <td>region_23</td>\n",
                            "      <td>Bachelor's</td>\n",
                            "      <td>m</td>\n",
                            "      <td>other</td>\n",
                            "      <td>2</td>\n",
                            "      <td>39</td>\n",
                            "      <td>1.0</td>\n",
                            "      <td>10</td>\n",
                            "      <td>0</td>\n",
                            "      <td>0</td>\n",
                            "      <td>50</td>\n",
                            "      <td>0</td>\n",
                            "    </tr>\n",
                            "    <tr>\n",
                            "      <th>4</th>\n",
                            "      <td>48945</td>\n",
                            "      <td>Technology</td>\n",
                            "      <td>region_26</td>\n",
                            "      <td>Bachelor's</td>\n",
                            "      <td>m</td>\n",
                            "      <td>other</td>\n",
                            "      <td>1</td>\n",
                            "      <td>45</td>\n",
                            "      <td>3.0</td>\n",
                            "      <td>2</td>\n",
                            "      <td>0</td>\n",
                            "      <td>0</td>\n",
                            "      <td>73</td>\n",
                            "      <td>0</td>\n",
                            "    </tr>\n",
                            "  </tbody>\n",
                            "</table>\n",
                            "</div>"
                        ],
                        "text/plain": [
                            "   employee_id         department     region         education gender  \\\n",
                            "0        65438  Sales & Marketing   region_7  Master's & above      f   \n",
                            "1        65141         Operations  region_22        Bachelor's      m   \n",
                            "2         7513  Sales & Marketing  region_19        Bachelor's      m   \n",
                            "3         2542  Sales & Marketing  region_23        Bachelor's      m   \n",
                            "4        48945         Technology  region_26        Bachelor's      m   \n",
                            "\n",
                            "  recruitment_channel  no_of_trainings  age  previous_year_rating  \\\n",
                            "0            sourcing                1   35                   5.0   \n",
                            "1               other                1   30                   5.0   \n",
                            "2            sourcing                1   34                   3.0   \n",
                            "3               other                2   39                   1.0   \n",
                            "4               other                1   45                   3.0   \n",
                            "\n",
                            "   length_of_service  KPIs_met >80%  awards_won?  avg_training_score  \\\n",
                            "0                  8              1            0                  49   \n",
                            "1                  4              0            0                  60   \n",
                            "2                  7              0            0                  50   \n",
                            "3                 10              0            0                  50   \n",
                            "4                  2              0            0                  73   \n",
                            "\n",
                            "   is_promoted  \n",
                            "0            0  \n",
                            "1            0  \n",
                            "2            0  \n",
                            "3            0  \n",
                            "4            0  "
                        ]
                    },
                    "execution_count": 85,
                    "metadata": {},
                    "output_type": "execute_result"
                }
            ],
            "source": [
                "promotion_df = pd.read_csv('datasets/promotion.csv')\n",
                "promotion_df.head()"
            ]
        },
        {
            "cell_type": "code",
            "execution_count": 86,
            "metadata": {},
            "outputs": [],
            "source": [
                "# Function for dropping some less important features, null samples, and duplicate samples\n",
                "\n",
                "def clean_dataset(dataset: pd.DataFrame):\n",
                "\n",
                "    dataset.drop(['employee_id', 'gender', 'recruitment_channel'], axis=1, inplace=True)\n",
                "    dataset.dropna(inplace=True)\n",
                "    dataset.drop_duplicates(inplace=True)\n",
                "\n",
                "    return dataset"
            ]
        },
        {
            "cell_type": "code",
            "execution_count": 87,
            "metadata": {},
            "outputs": [
                {
                    "name": "stdout",
                    "output_type": "stream",
                    "text": [
                        "Null Values Before\n",
                        "employee_id                0\n",
                        "department                 0\n",
                        "region                     0\n",
                        "education               2409\n",
                        "gender                     0\n",
                        "recruitment_channel        0\n",
                        "no_of_trainings            0\n",
                        "age                        0\n",
                        "previous_year_rating    4124\n",
                        "length_of_service          0\n",
                        "KPIs_met >80%              0\n",
                        "awards_won?                0\n",
                        "avg_training_score         0\n",
                        "is_promoted                0\n",
                        "dtype: int64\n",
                        "\n",
                        "Shape Before: (54808, 14)\n",
                        "\n",
                        "Shape After: (48295, 11)\n"
                    ]
                }
            ],
            "source": [
                "print('Null Values Before', promotion_df.isnull().sum(), sep='\\n')\n",
                "print('\\nShape Before:', promotion_df.shape)\n",
                "\n",
                "promotion_df = clean_dataset(promotion_df)\n",
                "\n",
                "print('\\nShape After:', promotion_df.shape)"
            ]
        },
        {
            "cell_type": "code",
            "execution_count": 88,
            "metadata": {},
            "outputs": [
                {
                    "data": {
                        "text/html": [
                            "<div>\n",
                            "<style scoped>\n",
                            "    .dataframe tbody tr th:only-of-type {\n",
                            "        vertical-align: middle;\n",
                            "    }\n",
                            "\n",
                            "    .dataframe tbody tr th {\n",
                            "        vertical-align: top;\n",
                            "    }\n",
                            "\n",
                            "    .dataframe thead th {\n",
                            "        text-align: right;\n",
                            "    }\n",
                            "</style>\n",
                            "<table border=\"1\" class=\"dataframe\">\n",
                            "  <thead>\n",
                            "    <tr style=\"text-align: right;\">\n",
                            "      <th></th>\n",
                            "      <th>no_of_trainings</th>\n",
                            "      <th>age</th>\n",
                            "      <th>previous_year_rating</th>\n",
                            "      <th>length_of_service</th>\n",
                            "      <th>KPIs_met &gt;80%</th>\n",
                            "      <th>awards_won?</th>\n",
                            "      <th>avg_training_score</th>\n",
                            "      <th>is_promoted</th>\n",
                            "    </tr>\n",
                            "  </thead>\n",
                            "  <tbody>\n",
                            "    <tr>\n",
                            "      <th>count</th>\n",
                            "      <td>48295.000000</td>\n",
                            "      <td>48295.000000</td>\n",
                            "      <td>48295.000000</td>\n",
                            "      <td>48295.000000</td>\n",
                            "      <td>48295.000000</td>\n",
                            "      <td>48295.000000</td>\n",
                            "      <td>48295.000000</td>\n",
                            "      <td>48295.000000</td>\n",
                            "    </tr>\n",
                            "    <tr>\n",
                            "      <th>mean</th>\n",
                            "      <td>1.253235</td>\n",
                            "      <td>35.610394</td>\n",
                            "      <td>3.337406</td>\n",
                            "      <td>6.318625</td>\n",
                            "      <td>0.357056</td>\n",
                            "      <td>0.023315</td>\n",
                            "      <td>63.625096</td>\n",
                            "      <td>0.087545</td>\n",
                            "    </tr>\n",
                            "    <tr>\n",
                            "      <th>std</th>\n",
                            "      <td>0.606506</td>\n",
                            "      <td>7.543641</td>\n",
                            "      <td>1.257824</td>\n",
                            "      <td>4.211537</td>\n",
                            "      <td>0.479136</td>\n",
                            "      <td>0.150904</td>\n",
                            "      <td>13.279887</td>\n",
                            "      <td>0.282635</td>\n",
                            "    </tr>\n",
                            "    <tr>\n",
                            "      <th>min</th>\n",
                            "      <td>1.000000</td>\n",
                            "      <td>20.000000</td>\n",
                            "      <td>1.000000</td>\n",
                            "      <td>1.000000</td>\n",
                            "      <td>0.000000</td>\n",
                            "      <td>0.000000</td>\n",
                            "      <td>39.000000</td>\n",
                            "      <td>0.000000</td>\n",
                            "    </tr>\n",
                            "    <tr>\n",
                            "      <th>25%</th>\n",
                            "      <td>1.000000</td>\n",
                            "      <td>30.000000</td>\n",
                            "      <td>3.000000</td>\n",
                            "      <td>3.000000</td>\n",
                            "      <td>0.000000</td>\n",
                            "      <td>0.000000</td>\n",
                            "      <td>52.000000</td>\n",
                            "      <td>0.000000</td>\n",
                            "    </tr>\n",
                            "    <tr>\n",
                            "      <th>50%</th>\n",
                            "      <td>1.000000</td>\n",
                            "      <td>34.000000</td>\n",
                            "      <td>3.000000</td>\n",
                            "      <td>5.000000</td>\n",
                            "      <td>0.000000</td>\n",
                            "      <td>0.000000</td>\n",
                            "      <td>60.000000</td>\n",
                            "      <td>0.000000</td>\n",
                            "    </tr>\n",
                            "    <tr>\n",
                            "      <th>75%</th>\n",
                            "      <td>1.000000</td>\n",
                            "      <td>39.000000</td>\n",
                            "      <td>4.000000</td>\n",
                            "      <td>8.000000</td>\n",
                            "      <td>1.000000</td>\n",
                            "      <td>0.000000</td>\n",
                            "      <td>76.000000</td>\n",
                            "      <td>0.000000</td>\n",
                            "    </tr>\n",
                            "    <tr>\n",
                            "      <th>max</th>\n",
                            "      <td>10.000000</td>\n",
                            "      <td>60.000000</td>\n",
                            "      <td>5.000000</td>\n",
                            "      <td>37.000000</td>\n",
                            "      <td>1.000000</td>\n",
                            "      <td>1.000000</td>\n",
                            "      <td>99.000000</td>\n",
                            "      <td>1.000000</td>\n",
                            "    </tr>\n",
                            "  </tbody>\n",
                            "</table>\n",
                            "</div>"
                        ],
                        "text/plain": [
                            "       no_of_trainings           age  previous_year_rating  length_of_service  \\\n",
                            "count     48295.000000  48295.000000          48295.000000       48295.000000   \n",
                            "mean          1.253235     35.610394              3.337406           6.318625   \n",
                            "std           0.606506      7.543641              1.257824           4.211537   \n",
                            "min           1.000000     20.000000              1.000000           1.000000   \n",
                            "25%           1.000000     30.000000              3.000000           3.000000   \n",
                            "50%           1.000000     34.000000              3.000000           5.000000   \n",
                            "75%           1.000000     39.000000              4.000000           8.000000   \n",
                            "max          10.000000     60.000000              5.000000          37.000000   \n",
                            "\n",
                            "       KPIs_met >80%   awards_won?  avg_training_score   is_promoted  \n",
                            "count   48295.000000  48295.000000        48295.000000  48295.000000  \n",
                            "mean        0.357056      0.023315           63.625096      0.087545  \n",
                            "std         0.479136      0.150904           13.279887      0.282635  \n",
                            "min         0.000000      0.000000           39.000000      0.000000  \n",
                            "25%         0.000000      0.000000           52.000000      0.000000  \n",
                            "50%         0.000000      0.000000           60.000000      0.000000  \n",
                            "75%         1.000000      0.000000           76.000000      0.000000  \n",
                            "max         1.000000      1.000000           99.000000      1.000000  "
                        ]
                    },
                    "execution_count": 88,
                    "metadata": {},
                    "output_type": "execute_result"
                }
            ],
            "source": [
                "promotion_df.describe()"
            ]
        },
        {
            "cell_type": "code",
            "execution_count": 89,
            "metadata": {},
            "outputs": [
                {
                    "name": "stdout",
                    "output_type": "stream",
                    "text": [
                        "\n",
                        "DEPARTMENT COUNT\n",
                        "Sales & Marketing    14107\n",
                        "Operations           10448\n",
                        "Procurement           6595\n",
                        "Technology            6467\n",
                        "Analytics             4581\n",
                        "Finance               2211\n",
                        "HR                    2130\n",
                        "R&D                    891\n",
                        "Legal                  865\n",
                        "Name: department, dtype: int64\n",
                        "\n",
                        "EDUCATION COUNT\n",
                        "Bachelor's          33101\n",
                        "Master's & above    14741\n",
                        "Below Secondary       453\n",
                        "Name: education, dtype: int64\n"
                    ]
                }
            ],
            "source": [
                "# Counting categorical features to determine encoding method\n",
                "\n",
                "print(\"\\nDEPARTMENT COUNT\")\n",
                "print(promotion_df['department'].value_counts())\n",
                "\n",
                "print(\"\\nEDUCATION COUNT\")\n",
                "print(promotion_df['education'].value_counts())"
            ]
        },
        {
            "cell_type": "code",
            "execution_count": 90,
            "metadata": {},
            "outputs": [
                {
                    "name": "stdout",
                    "output_type": "stream",
                    "text": [
                        "\n",
                        "REGION COUNT\n",
                        "region_2     10689\n",
                        "region_22     5379\n",
                        "region_7      4360\n",
                        "region_15     2486\n",
                        "region_13     2453\n",
                        "region_26     1956\n",
                        "region_31     1683\n",
                        "region_4      1623\n",
                        "region_27     1406\n",
                        "region_16     1311\n",
                        "region_11     1181\n",
                        "region_28     1139\n",
                        "region_23     1101\n",
                        "region_29      888\n",
                        "region_19      836\n",
                        "region_20      775\n",
                        "region_14      768\n",
                        "region_32      766\n",
                        "region_17      737\n",
                        "region_25      717\n",
                        "region_5       686\n",
                        "region_10      613\n",
                        "region_30      601\n",
                        "region_6       577\n",
                        "region_8       573\n",
                        "region_1       551\n",
                        "region_24      459\n",
                        "region_12      423\n",
                        "region_21      370\n",
                        "region_3       330\n",
                        "region_9       322\n",
                        "region_33      260\n",
                        "region_34      252\n",
                        "region_18       24\n",
                        "Name: region, dtype: int64\n",
                        "\n",
                        "IS_PROMOTED COUNT\n",
                        "0    44067\n",
                        "1     4228\n",
                        "Name: is_promoted, dtype: int64\n"
                    ]
                }
            ],
            "source": [
                "print(\"\\nREGION COUNT\")\n",
                "print(promotion_df['region'].value_counts())\n",
                "\n",
                "print(\"\\nIS_PROMOTED COUNT\")\n",
                "print(promotion_df['is_promoted'].value_counts())"
            ]
        },
        {
            "cell_type": "code",
            "execution_count": 63,
            "metadata": {},
            "outputs": [],
            "source": [
                "one_hot_encoder = OneHotEncoder(sparse=False, dtype=np.int8)\n",
                "m_estimate_encoder = MEstimateEncoder()\n",
                "scaler = StandardScaler()"
            ]
        },
        {
            "cell_type": "code",
            "execution_count": 64,
            "metadata": {},
            "outputs": [],
            "source": [
                "def encode_dataset(dataset: pd.DataFrame):\n",
                "    dataset[['department', 'region']] = m_estimate_encoder.transform(dataset[['department', 'region']])\n",
                "    education_data = one_hot_encoder.transform(dataset[['education']])\n",
                "    education_dataset = pd.DataFrame(\n",
                "        education_data, columns=one_hot_encoder.get_feature_names_out(),\n",
                "    )\n",
                "    dataset.drop('education', axis=1, inplace=True)\n",
                "    dataset = dataset.reset_index(drop=True).join(\n",
                "        education_dataset.reset_index(drop=True),\n",
                "    )\n",
                "    return dataset"
            ]
        },
        {
            "cell_type": "code",
            "execution_count": 65,
            "metadata": {},
            "outputs": [],
            "source": [
                "def scale(data):\n",
                "    return scaler.transform(data)"
            ]
        },
        {
            "cell_type": "code",
            "execution_count": 66,
            "metadata": {},
            "outputs": [],
            "source": [
                "promotion_df_labels = promotion_df.pop('is_promoted')\n",
                "\n",
                "# Keeping original feature names\n",
                "promotion_df_features = promotion_df.columns.array\n",
                "\n",
                "# Encoding\n",
                "m_estimate_encoder.fit(promotion_df[['department', 'region']], promotion_df_labels)\n",
                "one_hot_encoder.fit(promotion_df[['education']])\n",
                "promotion_df = encode_dataset(promotion_df)\n",
                "\n",
                "# Keeping updated feature names for plotting\n",
                "promotion_df_features_upd = promotion_df.columns.array"
            ]
        },
        {
            "cell_type": "code",
            "execution_count": 67,
            "metadata": {},
            "outputs": [
                {
                    "name": "stdout",
                    "output_type": "stream",
                    "text": [
                        "0    44067\n",
                        "1     4228\n",
                        "Name: is_promoted, dtype: int64\n"
                    ]
                }
            ],
            "source": [
                "print(promotion_df_labels.value_counts())"
            ]
        },
        {
            "cell_type": "code",
            "execution_count": 68,
            "metadata": {},
            "outputs": [
                {
                    "name": "stdout",
                    "output_type": "stream",
                    "text": [
                        "DATASET VALUE COUNTS BEFORE UNDERSAMPLING:\n",
                        "0    44067\n",
                        "1     4228\n",
                        "Name: is_promoted, dtype: int64\n",
                        "\n",
                        "DATASET VALUE COUNTS AFTER UNDERSAMPLING WITH IHT:\n",
                        "0    19416\n",
                        "1     4228\n",
                        "Name: is_promoted, dtype: int64\n",
                        "DATASET VALUE COUNTS AFTER UNDERSAMPLING WITH NEARMISS:\n",
                        "0    6040\n",
                        "1    4228\n",
                        "Name: is_promoted, dtype: int64\n"
                    ]
                }
            ],
            "source": [
                "# Balancing Data - Part 1\n",
                "# Under Sampling\n",
                "under_sampler_iht = InstanceHardnessThreshold(random_state=42, n_jobs=2)\n",
                "under_sampler_nm = NearMiss(version=2, sampling_strategy=0.7, n_jobs=2)\n",
                "\n",
                "print('DATASET VALUE COUNTS BEFORE UNDERSAMPLING:', promotion_df_labels.value_counts(), sep='\\n', end='\\n\\n')\n",
                "\n",
                "promotion_df, promotion_df_labels = under_sampler_iht.fit_resample(promotion_df, promotion_df_labels)\n",
                "\n",
                "print('DATASET VALUE COUNTS AFTER UNDERSAMPLING WITH IHT:', promotion_df_labels.value_counts(), sep='\\n')\n",
                "\n",
                "promotion_df, promotion_df_labels = under_sampler_nm.fit_resample(promotion_df, promotion_df_labels)\n",
                "\n",
                "print('DATASET VALUE COUNTS AFTER UNDERSAMPLING WITH NEARMISS:', promotion_df_labels.value_counts(), sep='\\n')\n",
                "\n",
                "# Over Sampling will be done only on the training data to avoid having synthetic data in the testing data, \n",
                "# because we want to be assess the model based on its performance on real data."
            ]
        },
        {
            "cell_type": "code",
            "execution_count": 69,
            "metadata": {},
            "outputs": [
                {
                    "data": {
                        "text/html": [
                            "<div>\n",
                            "<style scoped>\n",
                            "    .dataframe tbody tr th:only-of-type {\n",
                            "        vertical-align: middle;\n",
                            "    }\n",
                            "\n",
                            "    .dataframe tbody tr th {\n",
                            "        vertical-align: top;\n",
                            "    }\n",
                            "\n",
                            "    .dataframe thead th {\n",
                            "        text-align: right;\n",
                            "    }\n",
                            "</style>\n",
                            "<table border=\"1\" class=\"dataframe\">\n",
                            "  <thead>\n",
                            "    <tr style=\"text-align: right;\">\n",
                            "      <th></th>\n",
                            "      <th>department</th>\n",
                            "      <th>region</th>\n",
                            "      <th>no_of_trainings</th>\n",
                            "      <th>age</th>\n",
                            "      <th>previous_year_rating</th>\n",
                            "      <th>length_of_service</th>\n",
                            "      <th>KPIs_met &gt;80%</th>\n",
                            "      <th>awards_won?</th>\n",
                            "      <th>avg_training_score</th>\n",
                            "      <th>education_Bachelor's</th>\n",
                            "      <th>education_Below Secondary</th>\n",
                            "      <th>education_Master's &amp; above</th>\n",
                            "    </tr>\n",
                            "  </thead>\n",
                            "  <tbody>\n",
                            "    <tr>\n",
                            "      <th>count</th>\n",
                            "      <td>10268.000000</td>\n",
                            "      <td>10268.000000</td>\n",
                            "      <td>10268.000000</td>\n",
                            "      <td>10268.000000</td>\n",
                            "      <td>10268.000000</td>\n",
                            "      <td>10268.000000</td>\n",
                            "      <td>10268.000000</td>\n",
                            "      <td>10268.000000</td>\n",
                            "      <td>10268.000000</td>\n",
                            "      <td>10268.000000</td>\n",
                            "      <td>10268.000000</td>\n",
                            "      <td>10268.000000</td>\n",
                            "    </tr>\n",
                            "    <tr>\n",
                            "      <th>mean</th>\n",
                            "      <td>0.095149</td>\n",
                            "      <td>0.087955</td>\n",
                            "      <td>1.239092</td>\n",
                            "      <td>36.215232</td>\n",
                            "      <td>3.285840</td>\n",
                            "      <td>6.620764</td>\n",
                            "      <td>0.295092</td>\n",
                            "      <td>0.049085</td>\n",
                            "      <td>70.461434</td>\n",
                            "      <td>0.651344</td>\n",
                            "      <td>0.003603</td>\n",
                            "      <td>0.345053</td>\n",
                            "    </tr>\n",
                            "    <tr>\n",
                            "      <th>std</th>\n",
                            "      <td>0.011208</td>\n",
                            "      <td>0.025866</td>\n",
                            "      <td>0.586032</td>\n",
                            "      <td>6.713874</td>\n",
                            "      <td>1.193554</td>\n",
                            "      <td>3.793276</td>\n",
                            "      <td>0.456106</td>\n",
                            "      <td>0.216055</td>\n",
                            "      <td>11.217003</td>\n",
                            "      <td>0.476568</td>\n",
                            "      <td>0.059923</td>\n",
                            "      <td>0.475409</td>\n",
                            "    </tr>\n",
                            "    <tr>\n",
                            "      <th>min</th>\n",
                            "      <td>0.048600</td>\n",
                            "      <td>0.025039</td>\n",
                            "      <td>1.000000</td>\n",
                            "      <td>20.000000</td>\n",
                            "      <td>1.000000</td>\n",
                            "      <td>1.000000</td>\n",
                            "      <td>0.000000</td>\n",
                            "      <td>0.000000</td>\n",
                            "      <td>41.000000</td>\n",
                            "      <td>0.000000</td>\n",
                            "      <td>0.000000</td>\n",
                            "      <td>0.000000</td>\n",
                            "    </tr>\n",
                            "    <tr>\n",
                            "      <th>25%</th>\n",
                            "      <td>0.093414</td>\n",
                            "      <td>0.074236</td>\n",
                            "      <td>1.000000</td>\n",
                            "      <td>31.000000</td>\n",
                            "      <td>3.000000</td>\n",
                            "      <td>4.000000</td>\n",
                            "      <td>0.000000</td>\n",
                            "      <td>0.000000</td>\n",
                            "      <td>61.000000</td>\n",
                            "      <td>0.000000</td>\n",
                            "      <td>0.000000</td>\n",
                            "      <td>0.000000</td>\n",
                            "    </tr>\n",
                            "    <tr>\n",
                            "      <th>50%</th>\n",
                            "      <td>0.098709</td>\n",
                            "      <td>0.082796</td>\n",
                            "      <td>1.000000</td>\n",
                            "      <td>35.000000</td>\n",
                            "      <td>3.000000</td>\n",
                            "      <td>6.000000</td>\n",
                            "      <td>0.000000</td>\n",
                            "      <td>0.000000</td>\n",
                            "      <td>70.000000</td>\n",
                            "      <td>1.000000</td>\n",
                            "      <td>0.000000</td>\n",
                            "      <td>0.000000</td>\n",
                            "    </tr>\n",
                            "    <tr>\n",
                            "      <th>75%</th>\n",
                            "      <td>0.098709</td>\n",
                            "      <td>0.109399</td>\n",
                            "      <td>1.000000</td>\n",
                            "      <td>40.000000</td>\n",
                            "      <td>4.000000</td>\n",
                            "      <td>8.000000</td>\n",
                            "      <td>1.000000</td>\n",
                            "      <td>0.000000</td>\n",
                            "      <td>79.000000</td>\n",
                            "      <td>1.000000</td>\n",
                            "      <td>0.000000</td>\n",
                            "      <td>1.000000</td>\n",
                            "    </tr>\n",
                            "    <tr>\n",
                            "      <th>max</th>\n",
                            "      <td>0.107311</td>\n",
                            "      <td>0.147221</td>\n",
                            "      <td>9.000000</td>\n",
                            "      <td>60.000000</td>\n",
                            "      <td>5.000000</td>\n",
                            "      <td>34.000000</td>\n",
                            "      <td>1.000000</td>\n",
                            "      <td>1.000000</td>\n",
                            "      <td>99.000000</td>\n",
                            "      <td>1.000000</td>\n",
                            "      <td>1.000000</td>\n",
                            "      <td>1.000000</td>\n",
                            "    </tr>\n",
                            "  </tbody>\n",
                            "</table>\n",
                            "</div>"
                        ],
                        "text/plain": [
                            "         department        region  no_of_trainings           age  \\\n",
                            "count  10268.000000  10268.000000     10268.000000  10268.000000   \n",
                            "mean       0.095149      0.087955         1.239092     36.215232   \n",
                            "std        0.011208      0.025866         0.586032      6.713874   \n",
                            "min        0.048600      0.025039         1.000000     20.000000   \n",
                            "25%        0.093414      0.074236         1.000000     31.000000   \n",
                            "50%        0.098709      0.082796         1.000000     35.000000   \n",
                            "75%        0.098709      0.109399         1.000000     40.000000   \n",
                            "max        0.107311      0.147221         9.000000     60.000000   \n",
                            "\n",
                            "       previous_year_rating  length_of_service  KPIs_met >80%   awards_won?  \\\n",
                            "count          10268.000000       10268.000000   10268.000000  10268.000000   \n",
                            "mean               3.285840           6.620764       0.295092      0.049085   \n",
                            "std                1.193554           3.793276       0.456106      0.216055   \n",
                            "min                1.000000           1.000000       0.000000      0.000000   \n",
                            "25%                3.000000           4.000000       0.000000      0.000000   \n",
                            "50%                3.000000           6.000000       0.000000      0.000000   \n",
                            "75%                4.000000           8.000000       1.000000      0.000000   \n",
                            "max                5.000000          34.000000       1.000000      1.000000   \n",
                            "\n",
                            "       avg_training_score  education_Bachelor's  education_Below Secondary  \\\n",
                            "count        10268.000000          10268.000000               10268.000000   \n",
                            "mean            70.461434              0.651344                   0.003603   \n",
                            "std             11.217003              0.476568                   0.059923   \n",
                            "min             41.000000              0.000000                   0.000000   \n",
                            "25%             61.000000              0.000000                   0.000000   \n",
                            "50%             70.000000              1.000000                   0.000000   \n",
                            "75%             79.000000              1.000000                   0.000000   \n",
                            "max             99.000000              1.000000                   1.000000   \n",
                            "\n",
                            "       education_Master's & above  \n",
                            "count                10268.000000  \n",
                            "mean                     0.345053  \n",
                            "std                      0.475409  \n",
                            "min                      0.000000  \n",
                            "25%                      0.000000  \n",
                            "50%                      0.000000  \n",
                            "75%                      1.000000  \n",
                            "max                      1.000000  "
                        ]
                    },
                    "execution_count": 69,
                    "metadata": {},
                    "output_type": "execute_result"
                }
            ],
            "source": [
                "promotion_df.describe()"
            ]
        },
        {
            "cell_type": "code",
            "execution_count": 70,
            "metadata": {},
            "outputs": [
                {
                    "data": {
                        "text/plain": [
                            "<seaborn.axisgrid.PairGrid at 0x7fa1d09aeb30>"
                        ]
                    },
                    "execution_count": 70,
                    "metadata": {},
                    "output_type": "execute_result"
                },
                {
                    "data": {
                        "image/png": "[encoded data removed]",
                        "text/plain": [
                            "<Figure size 1500x250 with 6 Axes>"
                        ]
                    },
                    "metadata": {},
                    "output_type": "display_data"
                }
            ],
            "source": [
                "promotion_df['is_promoted'] = promotion_df_labels\n",
                "sns.pairplot(promotion_df, x_vars=promotion_df_features_upd[:6], y_vars=['is_promoted'])"
            ]
        },
        {
            "cell_type": "code",
            "execution_count": 71,
            "metadata": {},
            "outputs": [
                {
                    "data": {
                        "text/plain": [
                            "<seaborn.axisgrid.PairGrid at 0x7fa1d09af0a0>"
                        ]
                    },
                    "execution_count": 71,
                    "metadata": {},
                    "output_type": "execute_result"
                },
                {
                    "data": {
                        "image/png": "[encoded data removed]",
                        "text/plain": [
                            "<Figure size 1500x250 with 6 Axes>"
                        ]
                    },
                    "metadata": {},
                    "output_type": "display_data"
                }
            ],
            "source": [
                "sns.pairplot(promotion_df, x_vars=promotion_df_features_upd[6:], y_vars=['is_promoted'])"
            ]
        },
        {
            "cell_type": "code",
            "execution_count": 72,
            "metadata": {},
            "outputs": [
                {
                    "data": {
                        "text/html": [
                            "<div>\n",
                            "<style scoped>\n",
                            "    .dataframe tbody tr th:only-of-type {\n",
                            "        vertical-align: middle;\n",
                            "    }\n",
                            "\n",
                            "    .dataframe tbody tr th {\n",
                            "        vertical-align: top;\n",
                            "    }\n",
                            "\n",
                            "    .dataframe thead th {\n",
                            "        text-align: right;\n",
                            "    }\n",
                            "</style>\n",
                            "<table border=\"1\" class=\"dataframe\">\n",
                            "  <thead>\n",
                            "    <tr style=\"text-align: right;\">\n",
                            "      <th></th>\n",
                            "      <th>department</th>\n",
                            "      <th>region</th>\n",
                            "      <th>no_of_trainings</th>\n",
                            "      <th>age</th>\n",
                            "      <th>previous_year_rating</th>\n",
                            "      <th>length_of_service</th>\n",
                            "      <th>KPIs_met &gt;80%</th>\n",
                            "      <th>awards_won?</th>\n",
                            "      <th>avg_training_score</th>\n",
                            "      <th>education_Bachelor's</th>\n",
                            "      <th>education_Below Secondary</th>\n",
                            "      <th>education_Master's &amp; above</th>\n",
                            "      <th>is_promoted</th>\n",
                            "    </tr>\n",
                            "  </thead>\n",
                            "  <tbody>\n",
                            "    <tr>\n",
                            "      <th>0</th>\n",
                            "      <td>0.098709</td>\n",
                            "      <td>0.147221</td>\n",
                            "      <td>1</td>\n",
                            "      <td>41</td>\n",
                            "      <td>2.0</td>\n",
                            "      <td>12</td>\n",
                            "      <td>0</td>\n",
                            "      <td>0</td>\n",
                            "      <td>71</td>\n",
                            "      <td>0</td>\n",
                            "      <td>0</td>\n",
                            "      <td>1</td>\n",
                            "      <td>0</td>\n",
                            "    </tr>\n",
                            "    <tr>\n",
                            "      <th>1</th>\n",
                            "      <td>0.098709</td>\n",
                            "      <td>0.074236</td>\n",
                            "      <td>1</td>\n",
                            "      <td>42</td>\n",
                            "      <td>4.0</td>\n",
                            "      <td>12</td>\n",
                            "      <td>0</td>\n",
                            "      <td>0</td>\n",
                            "      <td>71</td>\n",
                            "      <td>0</td>\n",
                            "      <td>0</td>\n",
                            "      <td>1</td>\n",
                            "      <td>0</td>\n",
                            "    </tr>\n",
                            "    <tr>\n",
                            "      <th>2</th>\n",
                            "      <td>0.098709</td>\n",
                            "      <td>0.147221</td>\n",
                            "      <td>1</td>\n",
                            "      <td>41</td>\n",
                            "      <td>3.0</td>\n",
                            "      <td>11</td>\n",
                            "      <td>0</td>\n",
                            "      <td>0</td>\n",
                            "      <td>71</td>\n",
                            "      <td>0</td>\n",
                            "      <td>0</td>\n",
                            "      <td>1</td>\n",
                            "      <td>0</td>\n",
                            "    </tr>\n",
                            "    <tr>\n",
                            "      <th>3</th>\n",
                            "      <td>0.098709</td>\n",
                            "      <td>0.082796</td>\n",
                            "      <td>1</td>\n",
                            "      <td>39</td>\n",
                            "      <td>1.0</td>\n",
                            "      <td>15</td>\n",
                            "      <td>0</td>\n",
                            "      <td>0</td>\n",
                            "      <td>71</td>\n",
                            "      <td>1</td>\n",
                            "      <td>0</td>\n",
                            "      <td>0</td>\n",
                            "      <td>0</td>\n",
                            "    </tr>\n",
                            "    <tr>\n",
                            "      <th>4</th>\n",
                            "      <td>0.098709</td>\n",
                            "      <td>0.116373</td>\n",
                            "      <td>1</td>\n",
                            "      <td>39</td>\n",
                            "      <td>1.0</td>\n",
                            "      <td>13</td>\n",
                            "      <td>0</td>\n",
                            "      <td>0</td>\n",
                            "      <td>71</td>\n",
                            "      <td>0</td>\n",
                            "      <td>0</td>\n",
                            "      <td>1</td>\n",
                            "      <td>0</td>\n",
                            "    </tr>\n",
                            "  </tbody>\n",
                            "</table>\n",
                            "</div>"
                        ],
                        "text/plain": [
                            "   department    region  no_of_trainings  age  previous_year_rating  \\\n",
                            "0    0.098709  0.147221                1   41                   2.0   \n",
                            "1    0.098709  0.074236                1   42                   4.0   \n",
                            "2    0.098709  0.147221                1   41                   3.0   \n",
                            "3    0.098709  0.082796                1   39                   1.0   \n",
                            "4    0.098709  0.116373                1   39                   1.0   \n",
                            "\n",
                            "   length_of_service  KPIs_met >80%  awards_won?  avg_training_score  \\\n",
                            "0                 12              0            0                  71   \n",
                            "1                 12              0            0                  71   \n",
                            "2                 11              0            0                  71   \n",
                            "3                 15              0            0                  71   \n",
                            "4                 13              0            0                  71   \n",
                            "\n",
                            "   education_Bachelor's  education_Below Secondary  \\\n",
                            "0                     0                          0   \n",
                            "1                     0                          0   \n",
                            "2                     0                          0   \n",
                            "3                     1                          0   \n",
                            "4                     0                          0   \n",
                            "\n",
                            "   education_Master's & above  is_promoted  \n",
                            "0                           1            0  \n",
                            "1                           1            0  \n",
                            "2                           1            0  \n",
                            "3                           0            0  \n",
                            "4                           1            0  "
                        ]
                    },
                    "execution_count": 72,
                    "metadata": {},
                    "output_type": "execute_result"
                }
            ],
            "source": [
                "promotion_df.head()"
            ]
        },
        {
            "cell_type": "code",
            "execution_count": 73,
            "metadata": {},
            "outputs": [],
            "source": [
                "Y = promotion_df.pop('is_promoted')\n",
                "\n",
                "scaler.fit(promotion_df)\n",
                "X = scale(promotion_df)\n",
                "\n",
                "X_TRAIN, X_TEST, Y_TRAIN, Y_TEST = train_test_split(\n",
                "    X, Y, test_size=0.3, random_state=42,\n",
                ")"
            ]
        },
        {
            "cell_type": "code",
            "execution_count": 74,
            "metadata": {},
            "outputs": [
                {
                    "name": "stdout",
                    "output_type": "stream",
                    "text": [
                        "TRAINING DATA VALUE COUNTS BEFORE OVERSAMPLING:\n",
                        "0    4190\n",
                        "1    2997\n",
                        "Name: is_promoted, dtype: int64\n",
                        "\n",
                        "TRAINING DATA VALUE COUNTS AFTER OVERSAMPLING:\n",
                        "0    4190\n",
                        "1    3270\n",
                        "Name: is_promoted, dtype: int64\n"
                    ]
                }
            ],
            "source": [
                "# Balancing Data - Part 2\n",
                "# Over Sampling\n",
                "over_sampler = ADASYN(sampling_strategy=0.8, random_state=42)\n",
                "\n",
                "print('TRAINING DATA VALUE COUNTS BEFORE OVERSAMPLING:', Y_TRAIN.value_counts(), sep='\\n', end='\\n\\n')\n",
                "\n",
                "X_TRAIN, Y_TRAIN = over_sampler.fit_resample(X_TRAIN, Y_TRAIN)\n",
                "\n",
                "print('TRAINING DATA VALUE COUNTS AFTER OVERSAMPLING:', Y_TRAIN.value_counts(), sep='\\n')"
            ]
        },
        {
            "cell_type": "code",
            "execution_count": 75,
            "metadata": {},
            "outputs": [
                {
                    "name": "stdout",
                    "output_type": "stream",
                    "text": [
                        "TRAINING COMPLETE\n"
                    ]
                }
            ],
            "source": [
                "model_rf = RandomForestClassifier(n_jobs=2)\n",
                "model_nb = BernoulliNB()\n",
                "model_nn = MLPClassifier(random_state=42, max_iter=1000)\n",
                "model_svm = SVC()\n",
                "\n",
                "# Training the model\n",
                "model_rf.fit(X_TRAIN, Y_TRAIN)\n",
                "model_nb.fit(X_TRAIN, Y_TRAIN)\n",
                "model_nn.fit(X_TRAIN, Y_TRAIN)\n",
                "model_svm.fit(X_TRAIN, Y_TRAIN)\n",
                "print('TRAINING COMPLETE')"
            ]
        },
        {
            "cell_type": "code",
            "execution_count": 76,
            "metadata": {},
            "outputs": [
                {
                    "name": "stdout",
                    "output_type": "stream",
                    "text": [
                        "RF 5-Fold Test Accuracy Scores:\n",
                        "[0.98123324 0.9886059  0.98190349 0.98190349 0.96514745]\n",
                        "NB 5-Fold Test Accuracy Scores:\n",
                        "[0.90147453 0.88873995 0.89678284 0.88404826 0.76675603]\n",
                        "NN 5-Fold Test Accuracy Scores:\n",
                        "[0.96782842 0.97587131 0.97184987 0.97587131 0.97252011]\n",
                        "SVM 5-Fold Test Accuracy Scores:\n",
                        "[0.95844504 0.95844504 0.9577748  0.96447721 0.88002681]\n"
                    ]
                }
            ],
            "source": [
                "# 5-Fold CROSS VALIDATION\n",
                "print(\n",
                "    'RF 5-Fold Test Accuracy Scores:',\n",
                "    cross_validate(estimator=model_rf, X=X_TRAIN, y=Y_TRAIN, cv=5, n_jobs=2)['test_score'],\n",
                "    sep='\\n'\n",
                ")\n",
                "print(\n",
                "    'NB 5-Fold Test Accuracy Scores:',\n",
                "    cross_validate(estimator=model_nb, X=X_TRAIN, y=Y_TRAIN, cv=5, n_jobs=2)['test_score'],\n",
                "    sep='\\n'\n",
                ")\n",
                "print(\n",
                "    'NN 5-Fold Test Accuracy Scores:',\n",
                "    cross_validate(estimator=model_nn, X=X_TRAIN, y=Y_TRAIN, cv=5, n_jobs=2)['test_score'],\n",
                "    sep='\\n'\n",
                ")\n",
                "print(\n",
                "    'SVM 5-Fold Test Accuracy Scores:',\n",
                "    cross_validate(estimator=model_svm, X=X_TRAIN, y=Y_TRAIN, cv=5, n_jobs=2)['test_score'],\n",
                "    sep='\\n'\n",
                ")"
            ]
        },
        {
            "cell_type": "code",
            "execution_count": 77,
            "metadata": {},
            "outputs": [],
            "source": [
                "Y_TEST_PRED_RF = model_rf.predict(X_TEST)\n",
                "Y_TEST_PRED_NB = model_nb.predict(X_TEST)\n",
                "Y_TEST_PRED_NN = model_nn.predict(X_TEST)\n",
                "Y_TEST_PRED_SVM = model_svm.predict(X_TEST)"
            ]
        },
        {
            "cell_type": "code",
            "execution_count": 78,
            "metadata": {},
            "outputs": [
                {
                    "name": "stdout",
                    "output_type": "stream",
                    "text": [
                        "MODEL ASSESSMENT RF\n",
                        "\n",
                        "Confusion Matrix\n",
                        " [[1819   31]\n",
                        " [  19 1212]]\n",
                        "\n",
                        "            Accuracy :  0.9837715027588445\n",
                        "Recall / Sensitivity :  0.9845653939886271\n",
                        "         Specificity :  0.9832432432432432\n",
                        "           Precision :  0.9750603378921963\n",
                        "                 MCC :  0.9662645942894632\n",
                        "            F1-Score :  0.9797898140662894\n"
                    ]
                },
                {
                    "data": {
                        "text/plain": [
                            "<AxesSubplot: >"
                        ]
                    },
                    "execution_count": 78,
                    "metadata": {},
                    "output_type": "execute_result"
                },
                {
                    "data": {
                        "image/png": "[encoded data removed]",
                        "text/plain": [
                            "<Figure size 640x480 with 2 Axes>"
                        ]
                    },
                    "metadata": {},
                    "output_type": "display_data"
                }
            ],
            "source": [
                "conf_mat = confusion_matrix(Y_TEST, Y_TEST_PRED_RF)\n",
                "\n",
                "TN, FP, FN, TP = conf_mat.ravel()\n",
                "\n",
                "accuracy = (TP + TN) / (TP + FP + TN + FN)\n",
                "recall = TP / (TP + FN)\n",
                "specificity = TN / (FP + TN)\n",
                "precision = TP / (TP + FP)\n",
                "mcc = ((TP * TN) - (FP * FN)) / np.sqrt((TP + FP) * (TP + FN) * (TN + FP) * (TN + FN))\n",
                "f1_score_ = (2 * precision * recall) / (precision + recall)\n",
                "\n",
                "print('MODEL ASSESSMENT RF')\n",
                "print('\\nConfusion Matrix\\n', conf_mat, end='\\n\\n')\n",
                "print('            Accuracy : ', accuracy)\n",
                "print('Recall / Sensitivity : ', recall)\n",
                "print('         Specificity : ', specificity)\n",
                "print('           Precision : ', precision)\n",
                "print('                 MCC : ', mcc)\n",
                "print('            F1-Score : ', f1_score_)\n",
                "\n",
                "sns.heatmap([[TP, FP], [FN, TN]], annot=True, fmt='g', xticklabels=[1, 0], yticklabels=[1, 0])"
            ]
        },
        {
            "cell_type": "code",
            "execution_count": 79,
            "metadata": {},
            "outputs": [
                {
                    "name": "stdout",
                    "output_type": "stream",
                    "text": [
                        "MODEL ASSESSMENT NB\n",
                        "\n",
                        "Confusion Matrix\n",
                        " [[1758   92]\n",
                        " [ 224 1007]]\n",
                        "\n",
                        "            Accuracy :  0.8974358974358975\n",
                        "Recall / Sensitivity :  0.818034118602762\n",
                        "         Specificity :  0.9502702702702702\n",
                        "           Precision :  0.916287534121929\n",
                        "                 MCC :  0.7855928705125373\n",
                        "            F1-Score :  0.8643776824034334\n"
                    ]
                },
                {
                    "data": {
                        "text/plain": [
                            "<AxesSubplot: >"
                        ]
                    },
                    "execution_count": 79,
                    "metadata": {},
                    "output_type": "execute_result"
                },
                {
                    "data": {
                        "image/png": "[encoded data removed]",
                        "text/plain": [
                            "<Figure size 640x480 with 2 Axes>"
                        ]
                    },
                    "metadata": {},
                    "output_type": "display_data"
                }
            ],
            "source": [
                "conf_mat = confusion_matrix(Y_TEST, Y_TEST_PRED_NB)\n",
                "\n",
                "TN, FP, FN, TP = conf_mat.ravel()\n",
                "\n",
                "accuracy = (TP + TN) / (TP + FP + TN + FN)\n",
                "recall = TP / (TP + FN)\n",
                "specificity = TN / (FP + TN)\n",
                "precision = TP / (TP + FP)\n",
                "mcc = ((TP * TN) - (FP * FN)) / np.sqrt((TP + FP) * (TP + FN) * (TN + FP) * (TN + FN))\n",
                "f1_score_ = (2 * precision * recall) / (precision + recall)\n",
                "\n",
                "print('MODEL ASSESSMENT NB')\n",
                "print('\\nConfusion Matrix\\n', conf_mat, end='\\n\\n')\n",
                "print('            Accuracy : ', accuracy)\n",
                "print('Recall / Sensitivity : ', recall)\n",
                "print('         Specificity : ', specificity)\n",
                "print('           Precision : ', precision)\n",
                "print('                 MCC : ', mcc)\n",
                "print('            F1-Score : ', f1_score_)\n",
                "\n",
                "sns.heatmap([[TP, FP], [FN, TN]], annot=True, fmt='g', xticklabels=[1, 0], yticklabels=[1, 0])"
            ]
        },
        {
            "cell_type": "code",
            "execution_count": 80,
            "metadata": {},
            "outputs": [
                {
                    "name": "stdout",
                    "output_type": "stream",
                    "text": [
                        "MODEL ASSESSMENT NN\n",
                        "\n",
                        "Confusion Matrix\n",
                        " [[1812   38]\n",
                        " [  29 1202]]\n",
                        "\n",
                        "            Accuracy :  0.9782538136968517\n",
                        "Recall / Sensitivity :  0.9764419171405362\n",
                        "         Specificity :  0.9794594594594594\n",
                        "           Precision :  0.9693548387096774\n",
                        "                 MCC :  0.9547512614969038\n",
                        "            F1-Score :  0.9728854714690408\n"
                    ]
                },
                {
                    "data": {
                        "text/plain": [
                            "<AxesSubplot: >"
                        ]
                    },
                    "execution_count": 80,
                    "metadata": {},
                    "output_type": "execute_result"
                },
                {
                    "data": {
                        "image/png": "[encoded data removed]",
                        "text/plain": [
                            "<Figure size 640x480 with 2 Axes>"
                        ]
                    },
                    "metadata": {},
                    "output_type": "display_data"
                }
            ],
            "source": [
                "conf_mat = confusion_matrix(Y_TEST, Y_TEST_PRED_NN)\n",
                "\n",
                "TN, FP, FN, TP = conf_mat.ravel()\n",
                "\n",
                "accuracy = (TP + TN) / (TP + FP + TN + FN)\n",
                "recall = TP / (TP + FN)\n",
                "specificity = TN / (FP + TN)\n",
                "precision = TP / (TP + FP)\n",
                "mcc = ((TP * TN) - (FP * FN)) / np.sqrt((TP + FP) * (TP + FN) * (TN + FP) * (TN + FN))\n",
                "f1_score_ = (2 * precision * recall) / (precision + recall)\n",
                "\n",
                "print('MODEL ASSESSMENT NN')\n",
                "print('\\nConfusion Matrix\\n', conf_mat, end='\\n\\n')\n",
                "print('            Accuracy : ', accuracy)\n",
                "print('Recall / Sensitivity : ', recall)\n",
                "print('         Specificity : ', specificity)\n",
                "print('           Precision : ', precision)\n",
                "print('                 MCC : ', mcc)\n",
                "print('            F1-Score : ', f1_score_)\n",
                "\n",
                "sns.heatmap([[TP, FP], [FN, TN]], annot=True, fmt='g', xticklabels=[1, 0], yticklabels=[1, 0])"
            ]
        },
        {
            "cell_type": "code",
            "execution_count": 81,
            "metadata": {},
            "outputs": [
                {
                    "name": "stdout",
                    "output_type": "stream",
                    "text": [
                        "MODEL ASSESSMENT SVM\n",
                        "\n",
                        "Confusion Matrix\n",
                        " [[1784   66]\n",
                        " [  48 1183]]\n",
                        "\n",
                        "            Accuracy :  0.9629990262901655\n",
                        "Recall / Sensitivity :  0.9610073111291633\n",
                        "         Specificity :  0.9643243243243244\n",
                        "           Precision :  0.9471577261809447\n",
                        "                 MCC :  0.9231416526192711\n",
                        "            F1-Score :  0.9540322580645161\n"
                    ]
                },
                {
                    "data": {
                        "text/plain": [
                            "<AxesSubplot: >"
                        ]
                    },
                    "execution_count": 81,
                    "metadata": {},
                    "output_type": "execute_result"
                },
                {
                    "data": {
                        "image/png": "[encoded data removed]",
                        "text/plain": [
                            "<Figure size 640x480 with 2 Axes>"
                        ]
                    },
                    "metadata": {},
                    "output_type": "display_data"
                }
            ],
            "source": [
                "conf_mat = confusion_matrix(Y_TEST, Y_TEST_PRED_SVM)\n",
                "\n",
                "TN, FP, FN, TP = conf_mat.ravel()\n",
                "\n",
                "accuracy = (TP + TN) / (TP + FP + TN + FN)\n",
                "recall = TP / (TP + FN)\n",
                "specificity = TN / (FP + TN)\n",
                "precision = TP / (TP + FP)\n",
                "mcc = ((TP * TN) - (FP * FN)) / np.sqrt((TP + FP) * (TP + FN) * (TN + FP) * (TN + FN))\n",
                "f1_score_ = (2 * precision * recall) / (precision + recall)\n",
                "\n",
                "print('MODEL ASSESSMENT SVM')\n",
                "print('\\nConfusion Matrix\\n', conf_mat, end='\\n\\n')\n",
                "print('            Accuracy : ', accuracy)\n",
                "print('Recall / Sensitivity : ', recall)\n",
                "print('         Specificity : ', specificity)\n",
                "print('           Precision : ', precision)\n",
                "print('                 MCC : ', mcc)\n",
                "print('            F1-Score : ', f1_score_)\n",
                "\n",
                "sns.heatmap([[TP, FP], [FN, TN]], annot=True, fmt='g', xticklabels=[1, 0], yticklabels=[1, 0])"
            ]
        }
    ],
    "metadata": {
        "kernelspec": {
            "display_name": "Python 3",
            "language": "python",
            "name": "python3"
        },
        "language_info": {
            "codemirror_mode": {
                "name": "ipython",
                "version": 3
            },
            "file_extension": ".py",
            "mimetype": "text/x-python",
            "name": "python",
            "nbconvert_exporter": "python",
            "pygments_lexer": "ipython3",
            "version": "3.10.8"
        },
        "orig_nbformat": 4,
        "vscode": {
            "interpreter": {
                "hash": "c8d4342ae3b67b2901b91ea043be7f06fe32ccb27152185ff463688d9e0793d7"
            }
        }
    },
    "nbformat": 4,
    "nbformat_minor": 2
}
